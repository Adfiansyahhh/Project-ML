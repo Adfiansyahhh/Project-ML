{
  "nbformat": 4,
  "nbformat_minor": 0,
  "metadata": {
    "colab": {
      "provenance": []
    },
    "kernelspec": {
      "name": "python3",
      "display_name": "Python 3"
    },
    "language_info": {
      "name": "python"
    }
  },
  "cells": [
    {
      "cell_type": "code",
      "source": [
        "from google.colab import drive\n",
        "drive.mount('/content/drive')\n"
      ],
      "metadata": {
        "colab": {
          "base_uri": "https://localhost:8080/"
        },
        "id": "ubN0XFnN2frF",
        "outputId": "b17c2863-2569-4c80-fe5a-eb7bd6e21629"
      },
      "execution_count": null,
      "outputs": [
        {
          "output_type": "stream",
          "name": "stdout",
          "text": [
            "Mounted at /content/drive\n"
          ]
        }
      ]
    },
    {
      "cell_type": "code",
      "source": [
        "path = \"/content/drive/MyDrive/Praktikum/Praktikum 02\""
      ],
      "metadata": {
        "id": "2ZbPXHG52txV"
      },
      "execution_count": null,
      "outputs": []
    },
    {
      "cell_type": "code",
      "execution_count": null,
      "metadata": {
        "id": "umLIbwfc2T-H"
      },
      "outputs": [],
      "source": [
        "import pandas as pd\n",
        "\n",
        "# Load dataset\n",
        "df = pd.read_csv(path + \"/Data/day (1).csv\")\n",
        "df = df.sample(frac=1, random_state=42).reset_index(drop=True)"
      ]
    },
    {
      "cell_type": "code",
      "source": [
        "\n",
        "# Hitung jumlah data\n",
        "n_total = len(df)\n",
        "n_test = int(0.2 * n_total)\n",
        "n_train = n_total - n_test"
      ],
      "metadata": {
        "id": "0vVPcrUA3XpR"
      },
      "execution_count": null,
      "outputs": []
    },
    {
      "cell_type": "code",
      "source": [
        "# Split data\n",
        "train_data = df.iloc[:n_train]\n",
        "test_data = df.iloc[n_train:]"
      ],
      "metadata": {
        "id": "YxHnhy0u3amO"
      },
      "execution_count": null,
      "outputs": []
    },
    {
      "cell_type": "code",
      "source": [
        "# Validation 10% dari training\n",
        "n_val = int(0.1 * len(train_data))\n",
        "val_data = train_data.iloc[:n_val]\n",
        "train_data = train_data.iloc[n_val:]"
      ],
      "metadata": {
        "id": "Veptjkel3d6a"
      },
      "execution_count": null,
      "outputs": []
    },
    {
      "cell_type": "code",
      "source": [
        "# Print hasil\n",
        "print(\"Jumlah Data Total     :\", n_total)\n",
        "print(\"Jumlah Data Training  :\", len(train_data))\n",
        "print(\"Jumlah Data Validation:\", len(val_data))\n",
        "print(\"Jumlah Data Testing   :\", len(test_data))\n",
        "print(\"=\"*50)"
      ],
      "metadata": {
        "colab": {
          "base_uri": "https://localhost:8080/"
        },
        "id": "ycyM5Z-H3hNh",
        "outputId": "d32c4ab7-87dc-4648-97f5-8cb32cc2937e"
      },
      "execution_count": null,
      "outputs": [
        {
          "output_type": "stream",
          "name": "stdout",
          "text": [
            "Jumlah Data Total     : 731\n",
            "Jumlah Data Training  : 527\n",
            "Jumlah Data Validation: 58\n",
            "Jumlah Data Testing   : 146\n",
            "==================================================\n"
          ]
        }
      ]
    },
    {
      "cell_type": "code",
      "source": [
        "print(\"\\n=== Data Training (5 baris teratas) ===\")\n",
        "print(train_data.head())"
      ],
      "metadata": {
        "colab": {
          "base_uri": "https://localhost:8080/"
        },
        "id": "F8YmT5XS3jwx",
        "outputId": "8a02fce8-e51d-4f2e-d92a-4648daa08e10"
      },
      "execution_count": null,
      "outputs": [
        {
          "output_type": "stream",
          "name": "stdout",
          "text": [
            "\n",
            "=== Data Training (5 baris teratas) ===\n",
            "    instant      dteday  season  yr  mnth  holiday  weekday  workingday  \\\n",
            "58      149  2011-05-29       2   0     5        0        0           0   \n",
            "59      581  2012-08-03       3   1     8        0        5           1   \n",
            "60      444  2012-03-19       1   1     3        0        1           1   \n",
            "61      543  2012-06-26       3   1     6        0        2           1   \n",
            "62       98  2011-04-08       2   0     4        0        5           1   \n",
            "\n",
            "    weathersit      temp     atemp       hum  windspeed  casual  registered  \\\n",
            "58           1  0.667500  0.615550  0.818750   0.213938    2355        2433   \n",
            "59           2  0.765833  0.722867  0.642500   0.215792    1328        5847   \n",
            "60           1  0.545000  0.532821  0.728750   0.162317     982        5171   \n",
            "61           1  0.630833  0.594704  0.373333   0.347642    1077        6365   \n",
            "62           2  0.335833  0.324479  0.836250   0.226992     172        1299   \n",
            "\n",
            "     cnt  \n",
            "58  4788  \n",
            "59  7175  \n",
            "60  6153  \n",
            "61  7442  \n",
            "62  1471  \n"
          ]
        }
      ]
    },
    {
      "cell_type": "code",
      "source": [
        "print(\"\\n=== Data Validation (5 baris teratas) ===\")\n",
        "print(val_data.head())"
      ],
      "metadata": {
        "colab": {
          "base_uri": "https://localhost:8080/"
        },
        "id": "hqwAx_j13pSa",
        "outputId": "3e03b7d8-f9df-4959-d2d3-d182eb1c6b5e"
      },
      "execution_count": null,
      "outputs": [
        {
          "output_type": "stream",
          "name": "stdout",
          "text": [
            "\n",
            "=== Data Validation (5 baris teratas) ===\n",
            "   instant      dteday  season  yr  mnth  holiday  weekday  workingday  \\\n",
            "0      704  2012-12-04       4   1    12        0        2           1   \n",
            "1       34  2011-02-03       1   0     2        0        4           1   \n",
            "2      301  2011-10-28       4   0    10        0        5           1   \n",
            "3      457  2012-04-01       2   1     4        0        0           0   \n",
            "4      634  2012-09-25       4   1     9        0        2           1   \n",
            "\n",
            "   weathersit      temp     atemp       hum  windspeed  casual  registered  \\\n",
            "0           1  0.475833  0.469054  0.733750   0.174129     551        6055   \n",
            "1           1  0.186957  0.177878  0.437826   0.277752      61        1489   \n",
            "2           2  0.330833  0.318812  0.585833   0.229479     456        3291   \n",
            "3           2  0.425833  0.417287  0.676250   0.172267    2347        3694   \n",
            "4           1  0.550000  0.544179  0.570000   0.236321     845        6693   \n",
            "\n",
            "    cnt  \n",
            "0  6606  \n",
            "1  1550  \n",
            "2  3747  \n",
            "3  6041  \n",
            "4  7538  \n"
          ]
        }
      ]
    },
    {
      "cell_type": "code",
      "source": [
        "print(\"\\n=== Data Testing (5 baris teratas) ===\")\n",
        "print(test_data.head())"
      ],
      "metadata": {
        "colab": {
          "base_uri": "https://localhost:8080/"
        },
        "id": "sK511bPA3vIj",
        "outputId": "6e1612bf-9e0a-4e96-9b46-f480837b3c38"
      },
      "execution_count": null,
      "outputs": [
        {
          "output_type": "stream",
          "name": "stdout",
          "text": [
            "\n",
            "=== Data Testing (5 baris teratas) ===\n",
            "     instant      dteday  season  yr  mnth  holiday  weekday  workingday  \\\n",
            "585      624  2012-09-15       3   1     9        0        6           0   \n",
            "586      617  2012-09-08       3   1     9        0        6           0   \n",
            "587      557  2012-07-10       3   1     7        0        2           1   \n",
            "588      578  2012-07-31       3   1     7        0        2           1   \n",
            "589       86  2011-03-27       2   0     3        0        0           0   \n",
            "\n",
            "     weathersit      temp     atemp       hum  windspeed  casual  registered  \\\n",
            "585           1  0.608333  0.585867  0.501667   0.247521    3160        5554   \n",
            "586           2  0.659167  0.611121  0.799167   0.281104    1557        4419   \n",
            "587           2  0.720833  0.664796  0.667500   0.151737     954        5336   \n",
            "588           1  0.713333  0.662896  0.704167   0.165425     968        6248   \n",
            "589           2  0.253043  0.250339  0.493913   0.184300     472        1221   \n",
            "\n",
            "      cnt  \n",
            "585  8714  \n",
            "586  5976  \n",
            "587  6290  \n",
            "588  7216  \n",
            "589  1693  \n"
          ]
        }
      ]
    }
  ]
}