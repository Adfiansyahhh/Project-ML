{
 "cells": [
  {
   "cell_type": "code",
   "execution_count": 9,
   "metadata": {},
   "outputs": [
    {
     "name": "stdout",
     "output_type": "stream",
     "text": [
      "\n",
      "Dataframe Baru (df1):\n",
      "   instant      dteday  season      temp       hum  windspeed\n",
      "0        1  2011-01-01       1  0.344167  0.805833   0.160446\n",
      "1        2  2011-01-02       1  0.363478  0.696087   0.248539\n",
      "2        3  2011-01-03       1  0.196364  0.437273   0.248309\n",
      "3        4  2011-01-04       1  0.200000  0.590435   0.160296\n",
      "4        5  2011-01-05       1  0.226957  0.436957   0.186900\n"
     ]
    }
   ],
   "source": [
    "import pandas as pd \n",
    "\n",
    "# read the CSV file with a comma delimiter\n",
    "df = pd.read_csv('../data/day.csv', sep=',')\n",
    "\n",
    "# cetak header data (5 baris data) dari file\n",
    "df.head()\n",
    "\n",
    "df1 = df[['instant', 'dteday', 'season', 'temp', 'hum', 'windspeed']]\n",
    "print(\"\\nDataframe Baru (df1):\")\n",
    "print(df1.head())\n",
    "\n",
    "df1.to_csv('../data/latihan01.csv', index=False)"
   ]
  }
 ],
 "metadata": {
  "kernelspec": {
   "display_name": "Python 3",
   "language": "python",
   "name": "python3"
  },
  "language_info": {
   "codemirror_mode": {
    "name": "ipython",
    "version": 3
   },
   "file_extension": ".py",
   "mimetype": "text/x-python",
   "name": "python",
   "nbconvert_exporter": "python",
   "pygments_lexer": "ipython3",
   "version": "3.11.9"
  }
 },
 "nbformat": 4,
 "nbformat_minor": 2
}
